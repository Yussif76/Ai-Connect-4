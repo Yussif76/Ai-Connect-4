{
 "cells": [
  {
   "cell_type": "code",
   "execution_count": null,
   "id": "9ae7ea67",
   "metadata": {},
   "outputs": [],
   "source": [
    "def check_terminal(board):\n",
    "    winner = check_win(board)\n",
    "    if winner:\n",
    "        return 1000 if winner == \"O\" else -1000\n",
    "    elif not available_actions(board):\n",
    "        return 0\n",
    "    return \"Not terminal\""
   ]
  }
 ],
 "metadata": {
  "language_info": {
   "name": "python"
  }
 },
 "nbformat": 4,
 "nbformat_minor": 5
}
