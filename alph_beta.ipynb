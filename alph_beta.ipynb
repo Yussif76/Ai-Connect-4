{
 "cells": [
  {
   "cell_type": "code",
   "execution_count": 1,
   "id": "c2814da1-95db-4e37-aee8-193dcd53d660",
   "metadata": {},
   "outputs": [],
   "source": [
    "def alpha_beta(board, depth, alpha=float('-inf'), beta=float('inf')):\n",
    "    result = check_terminal(board)\n",
    "\n",
    "    if result != \"Not terminal\" or depth == 0:\n",
    "        if result == \"Not terminal\":\n",
    "            return evaluate_board(board, \"O\"), None\n",
    "        return result, None\n",
    "\n",
    "    player = current_player(board)\n",
    "    best_action = None\n",
    "\n",
    "    if player == \"O\":\n",
    "        max_eval = float('-inf')\n",
    "        for action in available_actions(board):\n",
    "            next_state = take_action(board, (\"O\", action))\n",
    "            eval, _ = alpha_beta(next_state, depth - 1, alpha, beta)\n",
    "            if eval > max_eval:\n",
    "                max_eval = eval\n",
    "                best_action = action\n",
    "            alpha = max(alpha, eval)\n",
    "            if beta <= alpha:\n",
    "                break\n",
    "        return max_eval, best_action\n",
    "\n",
    "    else:\n",
    "        min_eval = float('inf')\n",
    "        for action in available_actions(board):\n",
    "            next_state = take_action(board, (\"X\", action))\n",
    "            eval, _ = alpha_beta(next_state, depth - 1, alpha, beta)\n",
    "            if eval < min_eval:\n",
    "                min_eval = eval\n",
    "                best_action = action\n",
    "            beta = min(beta, eval)\n",
    "            if beta <= alpha:\n",
    "                break\n",
    "        return min_eval, best_action"
   ]
  },
  {
   "cell_type": "code",
   "execution_count": null,
   "id": "6ffedb75-a568-4705-a58c-852283b42bda",
   "metadata": {},
   "outputs": [],
   "source": []
  }
 ],
 "metadata": {
  "kernelspec": {
   "display_name": "Python [conda env:base] *",
   "language": "python",
   "name": "conda-base-py"
  },
  "language_info": {
   "codemirror_mode": {
    "name": "ipython",
    "version": 3
   },
   "file_extension": ".py",
   "mimetype": "text/x-python",
   "name": "python",
   "nbconvert_exporter": "python",
   "pygments_lexer": "ipython3",
   "version": "3.12.7"
  }
 },
 "nbformat": 4,
 "nbformat_minor": 5
}
