{
 "cells": [
  {
   "cell_type": "code",
   "execution_count": null,
   "id": "4f4cea79-7791-4a67-beb3-450d21499b8f",
   "metadata": {},
   "outputs": [],
   "source": [
    "   def ai_turn():\n",
    "        nonlocal current_turn, board\n",
    "        _, action = alpha_beta(board, DEPTH)\n",
    "        if action is not None:\n",
    "            board = take_action(board, (\"O\", action))\n",
    "            update_board(circles, board)\n",
    "            if check_win(board) == \"O\":\n",
    "                show_winner(root, \"AI\")\n",
    "            else:\n",
    "                current_turn = \"X\""
   ]
  }
 ],
 "metadata": {
  "kernelspec": {
   "display_name": "Python [conda env:base] *",
   "language": "python",
   "name": "conda-base-py"
  },
  "language_info": {
   "codemirror_mode": {
    "name": "ipython",
    "version": 3
   },
   "file_extension": ".py",
   "mimetype": "text/x-python",
   "name": "python",
   "nbconvert_exporter": "python",
   "pygments_lexer": "ipython3",
   "version": "3.12.7"
  }
 },
 "nbformat": 4,
 "nbformat_minor": 5
}
