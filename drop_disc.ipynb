{
 "cells": [
  {
   "cell_type": "code",
   "execution_count": null,
   "id": "3868391f-4a45-43cf-b083-de2ce4c5c144",
   "metadata": {},
   "outputs": [],
   "source": [
    "def drop_disc(col):\n",
    "        nonlocal current_turn, board\n",
    "        if current_turn == \"X\":\n",
    "            if col in available_actions(board):\n",
    "                board = take_action(board, (\"X\", col))\n",
    "                update_board(circles, board)\n",
    "                if check_win(board) == \"X\":\n",
    "                    show_winner(root, \"Player\")\n",
    "                else:\n",
    "                    current_turn = \"O\"\n",
    "                    root.after(300, ai_turn)\n"
   ]
  }
 ],
 "metadata": {
  "kernelspec": {
   "display_name": "Python [conda env:base] *",
   "language": "python",
   "name": "conda-base-py"
  },
  "language_info": {
   "codemirror_mode": {
    "name": "ipython",
    "version": 3
   },
   "file_extension": ".py",
   "mimetype": "text/x-python",
   "name": "python",
   "nbconvert_exporter": "python",
   "pygments_lexer": "ipython3",
   "version": "3.12.7"
  }
 },
 "nbformat": 4,
 "nbformat_minor": 5
}
