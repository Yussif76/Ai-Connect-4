{
 "cells": [
  {
   "cell_type": "code",
   "execution_count": null,
   "id": "c958c427",
   "metadata": {},
   "outputs": [],
   "source": [
    "def setup_gui(root, drop_disc):\n",
    "    circles = [[None for _ in range(COLS)] for _ in range(ROWS)]\n",
    "    canvas_size = 70\n",
    "\n",
    "    root.title(\"Connect 4 vs AI\")\n",
    "    root.geometry(\"600x550\")\n",
    "\n",
    "    button_frame = tk.Frame(root)\n",
    "    button_frame.pack(pady=10)\n",
    "\n",
    "    for c in range(COLS):\n",
    "        btn = tk.Button(button_frame, text=\"↓\", font=('Arial', 18), width=4, height=1,\n",
    "                        command=lambda col=c: drop_disc(col))\n",
    "        btn.grid(row=0, column=c, padx=5)\n",
    "\n",
    "    board_frame = tk.Frame(root)\n",
    "    board_frame.pack()\n",
    "\n",
    "    for r in range(ROWS):\n",
    "        for c in range(COLS):\n",
    "            canvas = tk.Canvas(board_frame, width=canvas_size, height=canvas_size, bg=\"#4169e1\", highlightthickness=0)\n",
    "            canvas.grid(row=r, column=c, padx=2, pady=2)\n",
    "            circle = canvas.create_oval(5, 5, canvas_size-5, canvas_size-5, fill=\"white\", outline=\"#4169e1\")\n",
    "            circles[r][c] = (canvas, circle)\n",
    "\n",
    "    return circles, canvas_size\n",
    "\n",
    "def update_board(circles, board):\n",
    "    for r in range(ROWS):\n",
    "        for c in range(COLS):\n",
    "            val = board[r][c]\n",
    "            color = \"white\"\n",
    "            if val == \"X\":\n",
    "                color = \"red\"\n",
    "            elif val == \"O\":\n",
    "                color = \"yellow\"\n",
    "            canvas, circle = circles[r][c]\n",
    "            canvas.itemconfig(circle, fill=color)\n",
    "\n",
    "def show_winner(root, winner):\n",
    "    messagebox.showinfo(\"Game Over\", f\"{winner} wins!\")\n",
    "    root.quit()"
   ]
  }
 ],
 "metadata": {
  "kernelspec": {
   "display_name": "base",
   "language": "python",
   "name": "python3"
  },
  "language_info": {
   "codemirror_mode": {
    "name": "ipython",
    "version": 3
   },
   "file_extension": ".py",
   "mimetype": "text/x-python",
   "name": "python",
   "nbconvert_exporter": "python",
   "pygments_lexer": "ipython3",
   "version": "3.12.4"
  }
 },
 "nbformat": 4,
 "nbformat_minor": 5
}
