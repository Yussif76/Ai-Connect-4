{
 "cells": [
  {
   "cell_type": "code",
   "execution_count": 1,
   "id": "9771b817",
   "metadata": {},
   "outputs": [],
   "source": [
    "def init_board():\n",
    "    return [\n",
    "        [\" \", \" \", \" \", \" \", \" \", \" \", \" \"],\n",
    "        [\" \", \" \", \" \", \" \", \" \", \" \", \" \"],\n",
    "        [\" \", \" \", \" \", \" \", \" \", \" \", \" \"],\n",
    "        [\" \", \" \", \" \", \" \", \" \", \" \", \" \"],\n",
    "        [\" \", \" \", \" \", \" \", \" \", \" \", \" \"],\n",
    "        [\" \", \" \", \" \", \" \", \" \", \" \", \" \"],\n",
    "    ]\n",
    "\n",
    "def current_player(board):\n",
    "    x_count = sum(row.count(\"X\") for row in board)\n",
    "    o_count = sum(row.count(\"O\") for row in board)\n",
    "    return \"X\" if x_count <= o_count else \"O\"\n",
    "\n",
    "def available_actions(board):\n",
    "    return [c for c in range(COLS) if board[0][c] == EMPTY]\n",
    "\n",
    "def take_action(board, action):\n",
    "    new_board = [\n",
    "        [\" \", \" \", \" \", \" \", \" \", \" \", \" \"],\n",
    "        [\" \", \" \", \" \", \" \", \" \", \" \", \" \"],\n",
    "        [\" \", \" \", \" \", \" \", \" \", \" \", \" \"],\n",
    "        [\" \", \" \", \" \", \" \", \" \", \" \", \" \"],\n",
    "        [\" \", \" \", \" \", \" \", \" \", \" \", \" \"],\n",
    "        [\" \", \" \", \" \", \" \", \" \", \" \", \" \"],\n",
    "    ]\n",
    "\n",
    "    for row in range(ROWS):\n",
    "        for col in range(COLS):\n",
    "            new_board[row][col] = board[row][col]\n",
    "\n",
    "    player, column = action\n",
    "\n",
    "    for r in range(ROWS - 1, -1, -1):\n",
    "        if new_board[r][column] == EMPTY:\n",
    "            new_board[r][column] = player\n",
    "            break\n",
    "\n",
    "    return new_board\n"
   ]
  }
 ],
 "metadata": {
  "kernelspec": {
   "display_name": "Python 3",
   "language": "python",
   "name": "python3"
  },
  "language_info": {
   "codemirror_mode": {
    "name": "ipython",
    "version": 3
   },
   "file_extension": ".py",
   "mimetype": "text/x-python",
   "name": "python",
   "nbconvert_exporter": "python",
   "pygments_lexer": "ipython3",
   "version": "3.13.0"
  }
 },
 "nbformat": 4,
 "nbformat_minor": 5
}
