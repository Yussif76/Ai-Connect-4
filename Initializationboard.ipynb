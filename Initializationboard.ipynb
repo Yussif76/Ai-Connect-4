def init_board():
    return [
        [" ", " ", " ", " ", " ", " ", " "],
        [" ", " ", " ", " ", " ", " ", " "],
        [" ", " ", " ", " ", " ", " ", " "],
        [" ", " ", " ", " ", " ", " ", " "],
        [" ", " ", " ", " ", " ", " ", " "],
        [" ", " ", " ", " ", " ", " ", " "],
    ]

def current_player(board):
    x_count = sum(row.count("X") for row in board)
    o_count = sum(row.count("O") for row in board)
    return "X" if x_count <= o_count else "O"

def available_actions(board):
    return [c for c in range(COLS) if board[0][c] == EMPTY]

def take_action(board, action):
    new_board = [
        [" ", " ", " ", " ", " ", " ", " "],
        [" ", " ", " ", " ", " ", " ", " "],
        [" ", " ", " ", " ", " ", " ", " "],
        [" ", " ", " ", " ", " ", " ", " "],
        [" ", " ", " ", " ", " ", " ", " "],
        [" ", " ", " ", " ", " ", " ", " "],
    ]

    for row in range(ROWS):
        for col in range(COLS):
            new_board[row][col] = board[row][col]

    player, column = action

    for r in range(ROWS - 1, -1, -1):
        if new_board[r][column] == EMPTY:
            new_board[r][column] = player
            break

    return new_board
