{
 "cells": [
  {
   "cell_type": "code",
   "execution_count": 1,
   "id": "ea0aea13-97c3-4042-9a83-1bacf81c6e0c",
   "metadata": {},
   "outputs": [],
   "source": [
    "def evaluate_window(window, token):\n",
    "    score = 0\n",
    "    opponent = \"X\" if token == \"O\" else \"O\"\n",
    "\n",
    "    if window.count(token) == 4:\n",
    "        score += 1000\n",
    "    elif window.count(token) == 3 and window.count(EMPTY) == 1:\n",
    "        score += 100\n",
    "    elif window.count(token) == 2 and window.count(EMPTY) == 2:\n",
    "        score += 10\n",
    "\n",
    "    if window.count(opponent) == 3 and window.count(EMPTY) == 1:\n",
    "        score -= 80\n",
    "\n",
    "    return score"
   ]
  },
  {
   "cell_type": "code",
   "execution_count": null,
   "id": "58be64b4-cd83-48a0-bea3-db3f013a8a7e",
   "metadata": {},
   "outputs": [],
   "source": [
    "def evaluate_board(board, token):\n",
    "    score = 0\n",
    "    center_col = [board[r][COLS // 2] for r in range(ROWS)]\n",
    "    score += center_col.count(token) * 6\n",
    "\n",
    "    for row in board:\n",
    "        for c in range(COLS - 3):\n",
    "            window = row[c:c+4]\n",
    "            score += evaluate_window(window, token)\n",
    "\n",
    "    for c in range(COLS):\n",
    "        col = [board[r][c] for r in range(ROWS)]\n",
    "        for r in range(ROWS - 3):\n",
    "            window = col[r:r+4]\n",
    "            score += evaluate_window(window, token)\n",
    "\n",
    "    for r in range(ROWS - 3):\n",
    "        for c in range(COLS - 3):\n",
    "            window = [board[r+i][c+i] for i in range(4)]\n",
    "            score += evaluate_window(window, token)\n",
    "        for c in range(3, COLS):\n",
    "            window = [board[r+i][c-i] for i in range(4)]\n",
    "            score += evaluate_window(window, token)\n",
    "\n",
    "    return score"
   ]
  }
 ],
 "metadata": {
  "kernelspec": {
   "display_name": "Python 3 (ipykernel)",
   "language": "python",
   "name": "python3"
  },
  "language_info": {
   "codemirror_mode": {
    "name": "ipython",
    "version": 3
   },
   "file_extension": ".py",
   "mimetype": "text/x-python",
   "name": "python",
   "nbconvert_exporter": "python",
   "pygments_lexer": "ipython3",
   "version": "3.12.7"
  }
 },
 "nbformat": 4,
 "nbformat_minor": 5
}
